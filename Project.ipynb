{
 "cells": [
  {
   "cell_type": "code",
   "execution_count": 4,
   "metadata": {},
   "outputs": [
    {
     "name": "stdout",
     "output_type": "stream",
     "text": [
      "J value before Gradient Descent = 0.5\n",
      "J value after 1 iteration = 0.39453125\n",
      "J value after 2 iteration = 0.318176269531\n",
      "J value after 3 iteration = 0.261708259583\n",
      "J value after 4 iteration = 0.219098284841\n",
      "J value after 5 iteration = 0.186352127464\n",
      "Final Q0 after 5 iteration is: 0.382690429688\n",
      "Final Q1 after 5 iteration is: 0.602203369141\n"
     ]
    }
   ],
   "source": [
    "import numpy as np\n",
    "x = np.array([[1,3],[1,1],[1,0],[1,4]])\n",
    "y = [2,2,1,3]\n",
    "Q = [0,1]\n",
    "a = 0.25 #assumed 0.25 for best result in 5 iteration\n",
    "J = []\n",
    "J.append((1/(2*len(y)))*(np.sum(np.square(np.subtract(np.matmul(Q, x.transpose()), y)))))\n",
    "for i in range(0, 5):\n",
    "    h = np.matmul(Q, x.transpose())\n",
    "    for k in range(0,len(Q)):\n",
    "        Q[k] = Q[k] - (a/len(y))*(np.sum(np.matmul(np.subtract(h,y), x[:,k])))\n",
    "    J.append((1/(2*len(y)))*(np.sum(np.square(np.subtract(np.matmul(Q, x.transpose()), y)))))\n",
    "        \n",
    "for i in range(0,len(J)):\n",
    "    if(i == 0):\n",
    "        print(\"J value before Gradient Descent = \"+str(J[i]))\n",
    "    else:\n",
    "        print(\"J value after \"+ str(i) + \" iteration = \"+str(J[i]))  \n",
    "for i in range(0,len(Q)):\n",
    "    print(\"Final Q\"+str(i)+\" after 5 iteration is: \" + str(Q[i]))"
   ]
  }
 ],
 "metadata": {
  "kernelspec": {
   "display_name": "Python 3",
   "language": "python",
   "name": "python3"
  },
  "language_info": {
   "codemirror_mode": {
    "name": "ipython",
    "version": 3
   },
   "file_extension": ".py",
   "mimetype": "text/x-python",
   "name": "python",
   "nbconvert_exporter": "python",
   "pygments_lexer": "ipython3",
   "version": "3.6.3"
  }
 },
 "nbformat": 4,
 "nbformat_minor": 2
}
